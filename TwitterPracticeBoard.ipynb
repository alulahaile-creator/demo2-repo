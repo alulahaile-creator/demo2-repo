{
  "nbformat": 4,
  "nbformat_minor": 0,
  "metadata": {
    "colab": {
      "name": "TwitterPracticeBoard.ipynb",
      "provenance": [],
      "authorship_tag": "ABX9TyPeB68cl8jD1QYYLqPTogNr",
      "include_colab_link": true
    },
    "kernelspec": {
      "name": "python3",
      "display_name": "Python 3"
    },
    "language_info": {
      "name": "python"
    }
  },
  "cells": [
    {
      "cell_type": "markdown",
      "metadata": {
        "id": "view-in-github",
        "colab_type": "text"
      },
      "source": [
        "<a href=\"https://colab.research.google.com/github/alulahaile-creator/demo2-repo/blob/main/TwitterPracticeBoard.ipynb\" target=\"_parent\"><img src=\"https://colab.research.google.com/assets/colab-badge.svg\" alt=\"Open In Colab\"/></a>"
      ]
    },
    {
      "cell_type": "code",
      "metadata": {
        "id": "wqWe5YRmRip7"
      },
      "source": [
        "#Validating a BST (RECURSIVE)\n"
      ],
      "execution_count": null,
      "outputs": []
    },
    {
      "cell_type": "code",
      "metadata": {
        "id": "Tc99B5DrahO1",
        "colab": {
          "base_uri": "https://localhost:8080/"
        },
        "outputId": "d34e6889-57f9-42ae-f505-6117c6c6330e"
      },
      "source": [
        "[(1,3)]+[(2,4)]"
      ],
      "execution_count": null,
      "outputs": [
        {
          "output_type": "execute_result",
          "data": {
            "text/plain": [
              "[(1, 3), (2, 4)]"
            ]
          },
          "metadata": {
            "tags": []
          },
          "execution_count": 1
        }
      ]
    },
    {
      "cell_type": "code",
      "metadata": {
        "colab": {
          "base_uri": "https://localhost:8080/"
        },
        "id": "XHClkJskeQML",
        "outputId": "090f329a-36ac-4adc-ffea-67a5f5970d5b"
      },
      "source": [
        "# Implement a function which takes an array of integers as its input, and returns the first two which sum up to 10.  \n",
        "# “First Two” is defined by minimizing the larger index.  \n",
        "\n",
        "Input=[7,6,5,8,9,4,3]\n",
        "\n",
        "def firstTwo(list_):\n",
        "  currentMin=float('inf')\n",
        "  for i in range(len(list_)):\n",
        "    for j in range(i+1,len(list_)):\n",
        "      if (list_[i]+list_[j]==10):\n",
        "        currentMin=min(j,currentMin)\n",
        "        currentList=[list_[i],list_[j]]\n",
        "  return currentList\n",
        "\n",
        "\n",
        "print(firstTwo(Input))"
      ],
      "execution_count": null,
      "outputs": [
        {
          "output_type": "stream",
          "text": [
            "[6, 4]\n"
          ],
          "name": "stdout"
        }
      ]
    },
    {
      "cell_type": "code",
      "metadata": {
        "id": "FqGh6wmB2NqL"
      },
      "source": [
        "#next largest in a bst\n",
        "\n",
        "#root_saver=[root.val]\n",
        "\n",
        "#main_root=root.val\n",
        "def nextLargest(root,node,main_root,prev_root=None,saver=None):\n",
        "  if node==root.val and root.right:\n",
        "    return root.right\n",
        "  elif node==root.val and root.val<main_root and not root.right:\n",
        "    return saver\n",
        "  elif node==root.val and root.val>main_root and not root.right:\n",
        "    if saver and root.val<saver:\n",
        "      return saver\n",
        "    else:\n",
        "      return None\n",
        "  elif node< root.val:\n",
        "    return nextLargest(root.left,node,prev_root=saver,saver=root.val)\n",
        "  elif node>root.val:\n",
        "    return nextLargest(root.right,node,prev_root,saver)\n",
        "\n",
        "\n",
        "\n",
        "\n"
      ],
      "execution_count": null,
      "outputs": []
    },
    {
      "cell_type": "code",
      "metadata": {
        "id": "PxgLZF7pUp-V"
      },
      "source": [
        "# Definition for a binary tree node.\n",
        "class TreeNode:\n",
        "  def __init__(self, val=0, left=None, right=None):\n",
        "      self.val = val\n",
        "      self.left = left\n",
        "      self.right = right\n",
        "  \n",
        "class Solution:\n",
        "  def nextLargest(self,root,node, main_root,prev_root=None, saver=None):\n",
        "    if node==root.val and root.right:\n",
        "      return root.right\n",
        "    elif node==root.val and root.val<main_root and not root.right:\n",
        "      return saver\n",
        "    elif node==root.val and root.val>main_root and not root.right:\n",
        "      if saver and root.val<saver:\n",
        "        return saver\n",
        "      else:\n",
        "        return None\n",
        "    elif node< root.val:\n",
        "      return self.nextLargest(root.left,node,main_root,prev_root=saver,saver=root.val)\n",
        "    elif node>root.val:\n",
        "      return self.nextLargest(root.right,node,main_root,prev_root,saver)\n",
        "\n",
        "s=Solution()\n",
        "node1=TreeNode(5)\n",
        "node1.left=TreeNode(3)\n",
        "node1.right=TreeNode(6)\n",
        "node1.left.left=TreeNode(2)\n",
        "node1.left.right=TreeNode(4)\n",
        "node1.left.left.left=TreeNode(1)\n",
        "s.nextLargest(node1,1,node1.val)\n"
      ],
      "execution_count": null,
      "outputs": []
    },
    {
      "cell_type": "code",
      "metadata": {
        "id": "d2ELpL_5h4Ap"
      },
      "source": [
        "class TreeNode:\n",
        "  def __init__(self, val=0, left=None, right=None):\n",
        "      self.val = val\n",
        "      self.left = left\n",
        "      self.right = right\n",
        "\n",
        "class Solution:\n",
        "  def inorderTraversal(self, root,k):\n",
        "    if not root:\n",
        "      return []\n",
        "    else:\n",
        "      return self.inorderTraversal(root.left,k)+[root.val]+self.inorderTraversal(root.right,k)\n",
        "\n",
        "\n",
        "\n",
        "\n",
        "s=Solution()\n",
        "node1=TreeNode(5)\n",
        "node1.left=TreeNode(3)\n",
        "node1.right=TreeNode(6)\n",
        "node1.left.left=TreeNode(2)\n",
        "node1.left.right=TreeNode(4)\n",
        "node1.left.left.left=TreeNode(1)\n",
        "s.inorderTraversal(node1,2)\n",
        "\n",
        "k,outputList=s.inorderTraversal(node1,k=1)\n",
        "outputList[k-1]"
      ],
      "execution_count": null,
      "outputs": []
    },
    {
      "cell_type": "code",
      "metadata": {
        "id": "pOvnchrxrdw9"
      },
      "source": [
        "#two sum/ three sum type of questions \n",
        "\n",
        "#two sum\n",
        "'''\n",
        "Given an array A and a number X, check for pair in A with sum as X\n",
        "'''\n",
        "\n",
        "arr={0,-1,2,-3,1}\n",
        "\n",
        "def twoSum(arr,targetSum):\n",
        "  #arr.sort()\n",
        "  for i in range(len(arr)-1):\n",
        "    for j in range(i,len(arr)):\n",
        "      if arr[i]+arr[j]==targetSum:\n",
        "        return [arr[i],arr[j]]\n",
        "  return None\n",
        "\n",
        "#unit test\n",
        "#print(twoSum([0,-1,2,-3,1],10))\n",
        "\n",
        "'''\n",
        "#the difference between print and return! \n",
        "time and space complexity\n",
        "\n",
        "time complexity: O(n^2)\n",
        "space complexity: O(1)\n",
        "'''\n",
        "\n",
        "#the approach below utilizes two pointers\n",
        "def twoSum1(arr, targetSum):\n",
        "  arr.sort() #O(nlogn)\n",
        "  left=0\n",
        "  right=len(arr)-1\n",
        "\n",
        "  #for i in range(len(arr)-1):\n",
        "  #left=i\n",
        "  #right=i+1\n",
        "  #for j in range(i+1,len(arr)):\n",
        "  while left<right:\n",
        "    if arr[left]+arr[right]>targetSum:\n",
        "      left+=1\n",
        "    elif arr[left]+arr[right]>targetSum:\n",
        "      right-=1\n",
        "    else:\n",
        "      return [arr[left],arr[right]]\n",
        "  return None\n",
        "print(twoSum1([0,-1,2,-3,1],3))\n",
        "\n",
        "\n",
        "'''\n",
        "#the difference between print and return! \n",
        "time and space complexity\n",
        "\n",
        "time complexity: O(n^2)\n",
        "space complexity: O(1)\n",
        "'''\n",
        "\n",
        "#approach 3\n",
        "'''\n",
        "this method utilizes hashing method/strategy.\n",
        "'''\n",
        "\n",
        "def twoSum2(arr,targetSum):\n",
        "\n",
        "  #create an empty hash set\n",
        "  s=set()\n",
        "\n",
        "  LEN_ARR=len(arr)\n",
        "  for i in range(0,LEN_ARR):\n",
        "    temp=(targetSum-arr[i])\n",
        "    if temp in s:\n",
        "      return [arr[i],temp]\n",
        "    else:\n",
        "      s.add(arr[i])\n",
        "  return None\n",
        "\n",
        "print(twoSum2([-3,-1,0,1,2],1))\n",
        "\n",
        "\n",
        "'''\n",
        "#the difference between print and return! \n",
        "time and space complexity\n",
        "\n",
        "time complexity: O(n)\n",
        "space complexity: O(n)\n",
        "'''"
      ],
      "execution_count": null,
      "outputs": []
    },
    {
      "cell_type": "code",
      "metadata": {
        "id": "J6y4diQu5Enb"
      },
      "source": [
        "#Three Sum\n",
        "def threeSum(arr,targetSum):\n",
        "  arr.sort()\n",
        "  LEN_ARR=len(arr)\n",
        "  for i in range(LEN_ARR-2):\n",
        "    left=0\n",
        "    right=(LEN_ARR-1) #Len_arr-1 \n",
        "\n",
        "    while left<right:\n",
        "      if arr[i]+arr[left]+arr[right]<targetSum:\n",
        "        left+=1\n",
        "      elif arr[i]+arr[left]+arr[right]>targetSum:\n",
        "        right-=1\n",
        "      elif arr[i]+arr[left]+arr[right]==targetSum:\n",
        "        return \"Sum Found\",[arr[i],arr[left],arr[right]]\n",
        "      \n",
        "\n",
        "print(threeSum([-3,-1,0,1,2],3))\n",
        "'''\n",
        "#the difference between print and return! \n",
        "time and space complexity\n",
        "\n",
        "time complexity: O(n^2)\n",
        "space complexity: O(1)\n",
        "'''"
      ],
      "execution_count": null,
      "outputs": []
    },
    {
      "cell_type": "code",
      "metadata": {
        "id": "ntyTMShf5ZJy"
      },
      "source": [
        "#Spiral Matrix\n",
        "#LC #54\n",
        "'''\n",
        "[[1,2,3],\n",
        "[4,5,6],\n",
        "[7,8,9]\n",
        "]\n",
        "'''\n",
        "\n",
        "Output=[1,2,3,6,9,8,7,5]\n",
        "\n",
        "'''\n",
        "[[1,2,3,4],\n",
        "[5,6,7,8],\n",
        "[9,10,11,12]\n",
        "]\n",
        "'''\n",
        "\n",
        "Output=[1,2,3,4,8,12,11,10,9,5,6,7]\n",
        "\n",
        "class Solution:\n",
        "  def spiralOrder(self,matrix_):\n",
        "    nums=[]\n",
        "    if matrix_ ==null or len(matrix_)==0:\n",
        "      return None\n",
        "    \n",
        "    top=0\n",
        "    bottom=len(matrix_)-1\n",
        "    left=0\n",
        "    right=len(matrix_[0])-1\n",
        "    size=len(matrix_)*len(matrix_[0]) #to know when all the elements are added\n",
        "\n",
        "    while len(nums)<size:\n",
        "      for i in range(left,right+1):\n",
        "        nums.append(matrix_[top][i])\n",
        "      top+=1\n",
        "\n",
        "      for i in range(top,bottom):\n",
        "        nums.append(matrix_[i][right])\n",
        "      right-=1\n",
        "\n",
        "      for i  in range(-right,left):\n",
        "        nums.append(matrix_[bottom][i])\n",
        "      \n",
        "      bottom-=1\n",
        "\n",
        "      for i in range(-bottom,top):\n",
        "        nums.append(matrix[i][left])\n",
        "      \n",
        "      left+=1\n",
        "\n",
        "    return nums\n",
        "\n",
        "'''\n",
        "space and time complexity\n",
        "space:O(n), where n is number of elements in the matrix\n",
        "time:O(n), where n is number of elements in the matrix\n",
        "\n",
        "'''\n"
      ],
      "execution_count": null,
      "outputs": []
    },
    {
      "cell_type": "code",
      "metadata": {
        "id": "xjgyCUDZdP69"
      },
      "source": [
        "for i in range(-2,0):\n",
        "  print(\"hello world\")"
      ],
      "execution_count": null,
      "outputs": []
    }
  ]
}